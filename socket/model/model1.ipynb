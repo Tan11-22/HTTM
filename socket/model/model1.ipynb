{
  "cells": [
    {
      "cell_type": "code",
      "execution_count": 7,
      "metadata": {
        "id": "XKxi6FI9jOqN"
      },
      "outputs": [],
      "source": [
        "import pandas as pd\n",
        "import tensorflow as tf\n",
        "import string\n",
        "import numpy as np\n",
        "from pyvi import ViTokenizer, ViPosTagger # thư viện NLP tiếng Việt\n",
        "from tqdm import tqdm\n",
        "import numpy as np\n",
        "import gensim # thư viện NLP\n",
        "from keras.regularizers import l2\n",
        "\n"
      ]
    },
    {
      "cell_type": "code",
      "execution_count": 8,
      "metadata": {
        "colab": {
          "base_uri": "https://localhost:8080/"
        },
        "id": "-UMkIjmJjOqO",
        "outputId": "0fa809e3-c2d8-443e-f727-7d2ab42898b6"
      },
      "outputs": [
        {
          "name": "stdout",
          "output_type": "stream",
          "text": [
            "2436\n",
            "632\n",
            "633\n"
          ]
        }
      ],
      "source": [
        "train_data = pd.read_excel('./train.xlsx')\n",
        "train_sentences = train_data['sentence'].tolist()\n",
        "train_labels_film = train_data['label_film'].tolist()\n",
        "\n",
        "val_data = pd.read_excel('./val.xlsx')\n",
        "val_sentences = val_data['sentence'].tolist()\n",
        "val_labels_film = val_data['label_film'].tolist()\n",
        "\n",
        "test_data = pd.read_excel('./test.xlsx')\n",
        "test_sentences = test_data['sentence'].tolist()\n",
        "test_labels_film = test_data['label_film'].tolist()\n",
        "print(len(train_sentences))\n",
        "print(len(val_sentences))\n",
        "print(len(test_sentences))"
      ]
    },
    {
      "cell_type": "code",
      "execution_count": 9,
      "metadata": {
        "colab": {
          "base_uri": "https://localhost:8080/"
        },
        "id": "ZwFNLlWVjOqP",
        "outputId": "ec3e3ced-0c7d-4894-d2cf-df6aa7d908ce"
      },
      "outputs": [
        {
          "name": "stdout",
          "output_type": "stream",
          "text": [
            "tôi không thích cảm_giác bị ám_ảnh sau khi xem phim kinh_dị\n"
          ]
        }
      ],
      "source": [
        "def get_data(arr):\n",
        "    for i in range(0, len(arr)):\n",
        "        lines = arr[i]\n",
        "        lines = gensim.utils.simple_preprocess(lines)\n",
        "        lines = ' '.join(lines)\n",
        "        lines = ViTokenizer.tokenize(lines)\n",
        "        arr[i] = lines\n",
        "    return arr\n",
        "train_sentences = get_data(train_sentences)\n",
        "val_sentences = get_data(val_sentences)\n",
        "test_sentences = get_data(test_sentences)\n",
        "print(train_sentences[1])"
      ]
    },
    {
      "cell_type": "code",
      "execution_count": 10,
      "metadata": {
        "id": "QnGyi3fqjOqP"
      },
      "outputs": [],
      "source": [
        "# Tokenize và chuẩn hóa dữ liệu\n",
        "tokenizer = tf.keras.preprocessing.text.Tokenizer(filters='!\"#$%&()*+,-./:;<=>?@[\\\\]^`{|}~\\t\\n')\n",
        "tokenizer.fit_on_texts(train_sentences)\n",
        "\n",
        "train_sequences = tokenizer.texts_to_sequences(train_sentences)\n",
        "test_sequences = tokenizer.texts_to_sequences(test_sentences)\n",
        "val_sentences = tokenizer.texts_to_sequences(val_sentences)\n",
        "\n",
        "max_sequence_length = np.max([len(seq) for seq in train_sequences])\n",
        "\n",
        "train_sequences = tf.keras.preprocessing.sequence.pad_sequences(train_sequences, maxlen=max_sequence_length)\n",
        "test_sequences = tf.keras.preprocessing.sequence.pad_sequences(test_sequences, maxlen=max_sequence_length)\n",
        "val_sentences = tf.keras.preprocessing.sequence.pad_sequences(val_sentences, maxlen=max_sequence_length)\n",
        "\n",
        "train_sequences = tf.convert_to_tensor(train_sequences)\n",
        "train_labels_film = tf.convert_to_tensor(train_labels_film)\n",
        "\n",
        "test_sequences = tf.convert_to_tensor(test_sequences)\n",
        "test_labels_film = tf.convert_to_tensor(test_labels_film)\n",
        "\n",
        "val_sequences = tf.convert_to_tensor(val_sentences)\n",
        "val_labels_film = tf.convert_to_tensor(val_labels_film)\n"
      ]
    },
    {
      "cell_type": "code",
      "execution_count": 11,
      "metadata": {
        "id": "UlRq3WwDj_8E"
      },
      "outputs": [],
      "source": [
        "model = tf.keras.Sequential([\n",
        "    tf.keras.layers.Embedding(input_dim=len(tokenizer.word_index) + 1, output_dim=64, input_length=max_sequence_length),\n",
        "    tf.keras.layers.Bidirectional(tf.keras.layers.LSTM(64)),\n",
        "    tf.keras.layers.Dropout(0.5),\n",
        "    tf.keras.layers.Dense(9, activation='softmax')\n",
        "])\n",
        "model.compile(loss='sparse_categorical_crossentropy', optimizer='adam', metrics=['accuracy'])\n",
        "from tensorflow.keras.callbacks import ModelCheckpoint\n",
        "checkpoint = ModelCheckpoint('model1_{epoch}.h5', save_freq='epoch')"
      ]
    },
    {
      "cell_type": "code",
      "execution_count": 13,
      "metadata": {
        "colab": {
          "base_uri": "https://localhost:8080/"
        },
        "id": "d-xwZ4nFkC8V",
        "outputId": "e5a065db-69b2-4280-c666-f4871e973e3b"
      },
      "outputs": [
        {
          "name": "stdout",
          "output_type": "stream",
          "text": [
            "Epoch 1/20\n",
            "77/77 [==============================] - 25s 121ms/step - loss: 2.1097 - accuracy: 0.1876 - val_loss: 1.7753 - val_accuracy: 0.3829\n",
            "Epoch 2/20\n",
            " 1/77 [..............................] - ETA: 11s - loss: 1.9816 - accuracy: 0.2188"
          ]
        },
        {
          "name": "stderr",
          "output_type": "stream",
          "text": [
            "/usr/local/lib/python3.10/dist-packages/keras/src/engine/training.py:3079: UserWarning: You are saving your model as an HDF5 file via `model.save()`. This file format is considered legacy. We recommend using instead the native Keras format, e.g. `model.save('my_model.keras')`.\n",
            "  saving_api.save_model(\n"
          ]
        },
        {
          "name": "stdout",
          "output_type": "stream",
          "text": [
            "77/77 [==============================] - 2s 28ms/step - loss: 1.7185 - accuracy: 0.3666 - val_loss: 1.1971 - val_accuracy: 0.5348\n",
            "Epoch 3/20\n",
            "77/77 [==============================] - 2s 20ms/step - loss: 1.1099 - accuracy: 0.6076 - val_loss: 0.7433 - val_accuracy: 0.7437\n",
            "Epoch 4/20\n",
            "77/77 [==============================] - 1s 16ms/step - loss: 0.7052 - accuracy: 0.7771 - val_loss: 0.6428 - val_accuracy: 0.7864\n",
            "Epoch 5/20\n",
            "77/77 [==============================] - 1s 19ms/step - loss: 0.5045 - accuracy: 0.8461 - val_loss: 0.6301 - val_accuracy: 0.7943\n",
            "Epoch 6/20\n",
            "77/77 [==============================] - 2s 22ms/step - loss: 0.3918 - accuracy: 0.8888 - val_loss: 0.5973 - val_accuracy: 0.8038\n",
            "Epoch 7/20\n",
            "77/77 [==============================] - 1s 17ms/step - loss: 0.3333 - accuracy: 0.8970 - val_loss: 0.6001 - val_accuracy: 0.8117\n",
            "Epoch 8/20\n",
            "77/77 [==============================] - 1s 11ms/step - loss: 0.2583 - accuracy: 0.9249 - val_loss: 0.7074 - val_accuracy: 0.7943\n",
            "Epoch 9/20\n",
            "77/77 [==============================] - 1s 12ms/step - loss: 0.2236 - accuracy: 0.9294 - val_loss: 0.7183 - val_accuracy: 0.8006\n",
            "Epoch 10/20\n",
            "77/77 [==============================] - 1s 14ms/step - loss: 0.2091 - accuracy: 0.9351 - val_loss: 0.6792 - val_accuracy: 0.8054\n",
            "Epoch 11/20\n",
            "77/77 [==============================] - 1s 15ms/step - loss: 0.1930 - accuracy: 0.9356 - val_loss: 0.6643 - val_accuracy: 0.8038\n",
            "Epoch 12/20\n",
            "77/77 [==============================] - 1s 11ms/step - loss: 0.1740 - accuracy: 0.9442 - val_loss: 0.7718 - val_accuracy: 0.7911\n",
            "Epoch 13/20\n",
            "77/77 [==============================] - 1s 11ms/step - loss: 0.1477 - accuracy: 0.9532 - val_loss: 0.7523 - val_accuracy: 0.8070\n",
            "Epoch 14/20\n",
            "77/77 [==============================] - 1s 12ms/step - loss: 0.1638 - accuracy: 0.9524 - val_loss: 0.7515 - val_accuracy: 0.7832\n",
            "Epoch 15/20\n",
            "77/77 [==============================] - 1s 16ms/step - loss: 0.1263 - accuracy: 0.9635 - val_loss: 0.7987 - val_accuracy: 0.8022\n",
            "Epoch 16/20\n",
            "77/77 [==============================] - 1s 12ms/step - loss: 0.1098 - accuracy: 0.9631 - val_loss: 0.8153 - val_accuracy: 0.8133\n",
            "Epoch 17/20\n",
            "77/77 [==============================] - 1s 17ms/step - loss: 0.1176 - accuracy: 0.9598 - val_loss: 0.7882 - val_accuracy: 0.8038\n",
            "Epoch 18/20\n",
            "77/77 [==============================] - 1s 13ms/step - loss: 0.1137 - accuracy: 0.9618 - val_loss: 0.8282 - val_accuracy: 0.8038\n",
            "Epoch 19/20\n",
            "77/77 [==============================] - 1s 8ms/step - loss: 0.1027 - accuracy: 0.9631 - val_loss: 0.8116 - val_accuracy: 0.8038\n",
            "Epoch 20/20\n",
            "77/77 [==============================] - 1s 9ms/step - loss: 0.1017 - accuracy: 0.9667 - val_loss: 0.8355 - val_accuracy: 0.8149\n"
          ]
        }
      ],
      "source": [
        "history = model.fit(train_sequences, train_labels_film, batch_size=32, epochs=20, validation_data=(val_sequences, val_labels_film), callbacks=[checkpoint])"
      ]
    },
    {
      "cell_type": "code",
      "execution_count": 14,
      "metadata": {
        "colab": {
          "base_uri": "https://localhost:8080/",
          "height": 472
        },
        "id": "JsjAFtcQlUtL",
        "outputId": "1f7a2c55-62ef-4ddd-c474-9a580bfa65c2"
      },
      "outputs": [
        {
          "data": {
            "image/png": "[encoded data removed]",
            "text/plain": [
              "<Figure size 640x480 with 1 Axes>"
            ]
          },
          "metadata": {},
          "output_type": "display_data"
        }
      ],
      "source": [
        "import matplotlib.pyplot as plt\n",
        "accuracy = history.history['accuracy']\n",
        "val_accuracy = history.history['val_accuracy']\n",
        "\n",
        "loss = history.history['loss']\n",
        "val_loss = history.history['val_loss']\n",
        "\n",
        "# Tạo một đối tượng figure và axes\n",
        "fig, ax = plt.subplots()\n",
        "\n",
        "# Vẽ đồ thị accuracy\n",
        "ax.plot(accuracy, label='Training Accuracy')\n",
        "# Vẽ đồ thị val_accuracy\n",
        "ax.plot(val_accuracy, label='Validation Accuracy')\n",
        "\n",
        "\n",
        "# Đặt tiêu đề cho đồ thị và các trục\n",
        "ax.set_title('Training, Validation Accuracy')\n",
        "ax.set_xlabel('Epochs')\n",
        "ax.set_ylabel('Accuracy')\n",
        "\n",
        "# Hiển thị chú thích\n",
        "ax.legend()\n",
        "\n",
        "# Hiển thị đồ thị\n",
        "plt.show()"
      ]
    },
    {
      "cell_type": "code",
      "execution_count": 15,
      "metadata": {
        "colab": {
          "base_uri": "https://localhost:8080/",
          "height": 472
        },
        "id": "2laR9MvOj4Lm",
        "outputId": "0579c311-99b4-48f9-8676-223f0ed56463"
      },
      "outputs": [
        {
          "data": {
            "image/png": "[encoded data removed]",
            "text/plain": [
              "<Figure size 640x480 with 1 Axes>"
            ]
          },
          "metadata": {},
          "output_type": "display_data"
        }
      ],
      "source": [
        "loss = history.history['loss']\n",
        "val_loss = history.history['val_loss']\n",
        "\n",
        "# Tạo một đối tượng figure và axes\n",
        "fig, ax = plt.subplots()\n",
        "\n",
        "\n",
        "\n",
        "ax.plot(loss, label='Training Loss')\n",
        "ax.plot(val_loss, label='Validation Loss')\n",
        "\n",
        "# Đặt tiêu đề cho đồ thị và các trục\n",
        "ax.set_title('Training Loss, Validation Loss')\n",
        "ax.set_xlabel('Epochs')\n",
        "ax.set_ylabel('Loss')\n",
        "\n",
        "# Hiển thị chú thích\n",
        "ax.legend()\n",
        "\n",
        "# Hiển thị đồ thị\n",
        "plt.show()"
      ]
    },
    {
      "cell_type": "code",
      "execution_count": 16,
      "metadata": {
        "colab": {
          "base_uri": "https://localhost:8080/"
        },
        "id": "KWXV9QGvm0rG",
        "outputId": "f8d8e58d-88a1-452b-b3ba-796a670d1734"
      },
      "outputs": [
        {
          "name": "stdout",
          "output_type": "stream",
          "text": [
            "20/20 [==============================] - 0s 4ms/step - loss: 0.8630 - accuracy: 0.8088\n",
            "Test loss: 0.8629999160766602\n",
            "Test accuracy: 0.8088467717170715\n"
          ]
        }
      ],
      "source": [
        "test_loss, test_accuracy = model.evaluate(test_sequences, test_labels_film)\n",
        "print(f'Test loss: {test_loss}')\n",
        "print(f'Test accuracy: {test_accuracy}')"
      ]
    },
    {
      "cell_type": "code",
      "execution_count": 17,
      "metadata": {
        "id": "aTAze6ZTnHMU"
      },
      "outputs": [],
      "source": [
        "def get_data_line(a):\n",
        "      lines = a\n",
        "      lines = gensim.utils.simple_preprocess(lines)\n",
        "      lines = ' '.join(lines)\n",
        "      lines = ViTokenizer.tokenize(lines)\n",
        "      a = lines\n",
        "      return a"
      ]
    },
    {
      "cell_type": "code",
      "execution_count": 18,
      "metadata": {
        "colab": {
          "base_uri": "https://localhost:8080/"
        },
        "id": "O-v0c6jIm4O1",
        "outputId": "654a461b-256c-49f6-e711-27df053b37af"
      },
      "outputs": [
        {
          "name": "stdout",
          "output_type": "stream",
          "text": [
            "1/1 [==============================] - 1s 934ms/step\n",
            "[[9.9554127e-03 6.1900337e-04 4.6240534e-03 9.1165665e-04 3.5744029e-04\n",
            "  2.6320908e-03 4.5547941e-01 2.0625037e-03 5.2335840e-01]]\n",
            "8\n"
          ]
        }
      ],
      "source": [
        "input_sentence = get_data_line(\"Hôm nay tôi vui\")\n",
        "\n",
        "# Chuyển đổi câu thành dạng mà mô hình có thể nhận diện\n",
        "\n",
        "input_sequence = tokenizer.texts_to_sequences([input_sentence])\n",
        "input_sequence = tf.keras.preprocessing.sequence.pad_sequences(input_sequence, maxlen=max_sequence_length)\n",
        "\n",
        "# Dự đoán kết quả\n",
        "prediction = model.predict(input_sequence)\n",
        "\n",
        "# Hiển thị kết quả\n",
        "print(prediction)\n",
        "print(np.argmax(prediction))"
      ]
    },
    {
      "cell_type": "code",
      "execution_count": 19,
      "metadata": {
        "colab": {
          "base_uri": "https://localhost:8080/"
        },
        "id": "JK2w6A9bMKHH",
        "outputId": "e48edf6b-3289-44ef-e19b-d729972b35e1"
      },
      "outputs": [
        {
          "name": "stdout",
          "output_type": "stream",
          "text": [
            "20/20 [==============================] - 1s 6ms/step - loss: 1.7715 - accuracy: 0.3870\n",
            "0.38704580068588257\n",
            "1\n",
            "20/20 [==============================] - 1s 7ms/step - loss: 1.2203 - accuracy: 0.5134\n",
            "0.5134280920028687\n",
            "20/20 [==============================] - 1s 6ms/step - loss: 0.7910 - accuracy: 0.7536\n",
            "0.7535545229911804\n",
            "20/20 [==============================] - 1s 4ms/step - loss: 0.6801 - accuracy: 0.7946\n",
            "0.7946287393569946\n",
            "20/20 [==============================] - 1s 4ms/step - loss: 0.6497 - accuracy: 0.8199\n",
            "0.8199052214622498\n",
            "5\n",
            "20/20 [==============================] - 1s 5ms/step - loss: 0.6091 - accuracy: 0.8136\n",
            "0.8135861158370972\n",
            "6\n",
            "20/20 [==============================] - 1s 4ms/step - loss: 0.6308 - accuracy: 0.8057\n",
            "0.8056871891021729\n",
            "20/20 [==============================] - 1s 5ms/step - loss: 0.7145 - accuracy: 0.7930\n",
            "0.7930489778518677\n",
            "20/20 [==============================] - 1s 5ms/step - loss: 0.7044 - accuracy: 0.8167\n",
            "0.8167456388473511\n",
            "9\n",
            "20/20 [==============================] - 1s 4ms/step - loss: 0.7029 - accuracy: 0.7962\n",
            "0.7962085604667664\n",
            "20/20 [==============================] - 1s 4ms/step - loss: 0.6776 - accuracy: 0.8104\n",
            "0.8104265332221985\n",
            "11\n",
            "20/20 [==============================] - 1s 4ms/step - loss: 0.7880 - accuracy: 0.8041\n",
            "0.8041074275970459\n",
            "20/20 [==============================] - 1s 4ms/step - loss: 0.7477 - accuracy: 0.8136\n",
            "0.8135861158370972\n",
            "13\n",
            "20/20 [==============================] - 1s 4ms/step - loss: 0.7883 - accuracy: 0.8041\n",
            "0.8041074275970459\n",
            "20/20 [==============================] - 1s 4ms/step - loss: 0.8388 - accuracy: 0.7994\n",
            "0.7993680834770203\n",
            "20/20 [==============================] - 1s 5ms/step - loss: 0.8326 - accuracy: 0.8152\n",
            "0.8151658773422241\n",
            "16\n",
            "20/20 [==============================] - 2s 6ms/step - loss: 0.7887 - accuracy: 0.8152\n",
            "0.8151658773422241\n",
            "17\n",
            "20/20 [==============================] - 1s 6ms/step - loss: 0.8548 - accuracy: 0.8120\n",
            "0.8120062947273254\n",
            "18\n",
            "20/20 [==============================] - 1s 5ms/step - loss: 0.8254 - accuracy: 0.8199\n",
            "0.8199052214622498\n",
            "19\n",
            "20/20 [==============================] - 1s 4ms/step - loss: 0.8630 - accuracy: 0.8088\n",
            "0.8088467717170715\n",
            "19\n"
          ]
        }
      ],
      "source": [
        "max_test = -1.0\n",
        "index = 0\n",
        "for i in range(1, 21):\n",
        "  model_name = '/content/model1_' + str(i) + '.h5'\n",
        "  loaded_model = tf.keras.models.load_model(model_name)\n",
        "  loss, accuracy = loaded_model.evaluate(test_sequences, test_labels_film)\n",
        "  print(accuracy)\n",
        "  if accuracy > max_test:\n",
        "    print(i)\n",
        "    max_test = test_accuracy\n",
        "    index = i\n",
        "print(index)"
      ]
    },
    {
      "cell_type": "code",
      "execution_count": 20,
      "metadata": {
        "colab": {
          "base_uri": "https://localhost:8080/"
        },
        "id": "MmH4JPAVAOGy",
        "outputId": "0cd53dc3-8bfb-476b-b86c-837e2047f40c"
      },
      "outputs": [
        {
          "name": "stdout",
          "output_type": "stream",
          "text": [
            "1/1 [==============================] - 1s 629ms/step\n",
            "[[0.01854105 0.00131828 0.17793146 0.01060121 0.00645225 0.00193988\n",
            "  0.18251432 0.03137341 0.5693281 ]]\n",
            "8\n"
          ]
        }
      ],
      "source": [
        "model_name = '/content/model1_' + str(index) + '.h5'\n",
        "model_load = tf.keras.models.load_model(model_name)\n",
        "\n",
        "input_sentence = get_data_line(\"Tôi buồn, cần niềm vui\")\n",
        "\n",
        "# Chuyển đổi câu thành dạng mà mô hình có thể nhận diện\n",
        "\n",
        "input_sequence = tokenizer.texts_to_sequences([input_sentence])\n",
        "input_sequence = tf.keras.preprocessing.sequence.pad_sequences(input_sequence, maxlen=max_sequence_length)\n",
        "\n",
        "# Dự đoán kết quả\n",
        "prediction = model_load.predict(input_sequence)\n",
        "\n",
        "# Hiển thị kết quả\n",
        "print(prediction)\n",
        "print(np.argmax(prediction))"
      ]
    }
  ],
  "metadata": {
    "accelerator": "GPU",
    "colab": {
      "gpuType": "T4",
      "provenance": []
    },
    "kernelspec": {
      "display_name": "Python 3",
      "name": "python3"
    },
    "language_info": {
      "codemirror_mode": {
        "name": "ipython",
        "version": 3
      },
      "file_extension": ".py",
      "mimetype": "text/x-python",
      "name": "python",
      "nbconvert_exporter": "python",
      "pygments_lexer": "ipython3",
      "version": "3.9.13"
    }
  },
  "nbformat": 4,
  "nbformat_minor": 0
}
