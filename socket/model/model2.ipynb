{
  "cells": [
    {
      "cell_type": "code",
      "execution_count": null,
      "metadata": {
        "id": "XKxi6FI9jOqN"
      },
      "outputs": [],
      "source": [
        "import pandas as pd\n",
        "import tensorflow as tf\n",
        "import string\n",
        "import numpy as np\n",
        "from pyvi import ViTokenizer, ViPosTagger # thư viện NLP tiếng Việt\n",
        "from tqdm import tqdm\n",
        "import numpy as np\n",
        "import gensim # thư viện NLP\n",
        "from keras.regularizers import l2\n",
        "\n"
      ]
    },
    {
      "cell_type": "code",
      "execution_count": null,
      "metadata": {
        "id": "-UMkIjmJjOqO"
      },
      "outputs": [],
      "source": [
        "train_data = pd.read_excel('./train2.xlsx')\n",
        "train_sentences = train_data['sentence'].tolist()\n",
        "train_labels = train_data['label'].tolist()\n",
        "\n",
        "val_data = pd.read_excel('./val2.xlsx')\n",
        "val_sentences = val_data['sentence'].tolist()\n",
        "val_labels = val_data['label'].tolist()\n",
        "\n",
        "test_data = pd.read_excel('./test2.xlsx')\n",
        "test_sentences = test_data['sentence'].tolist()\n",
        "test_labels = test_data['label'].tolist()"
      ]
    },
    {
      "cell_type": "code",
      "execution_count": null,
      "metadata": {
        "id": "ZwFNLlWVjOqP"
      },
      "outputs": [],
      "source": [
        "def get_data(arr):\n",
        "    for i in range(0, len(arr)):\n",
        "        lines = arr[i]\n",
        "        lines = gensim.utils.simple_preprocess(lines)\n",
        "        lines = ' '.join(lines)\n",
        "        lines = ViTokenizer.tokenize(lines)\n",
        "        arr[i] = lines\n",
        "    return arr\n",
        "train_sentences = get_data(train_sentences)\n",
        "val_sentences = get_data(val_sentences)\n",
        "test_sentences = get_data(test_sentences)"
      ]
    },
    {
      "cell_type": "code",
      "source": [
        "def get_data_line(a):\n",
        "    lines = a\n",
        "    lines = gensim.utils.simple_preprocess(lines)\n",
        "    lines = ' '.join(lines)\n",
        "    lines = ViTokenizer.tokenize(lines)\n",
        "    return lines"
      ],
      "metadata": {
        "id": "38gTGOKbqmSl"
      },
      "execution_count": null,
      "outputs": []
    },
    {
      "cell_type": "code",
      "execution_count": null,
      "metadata": {
        "id": "QnGyi3fqjOqP"
      },
      "outputs": [],
      "source": [
        "# Tokenize và chuẩn hóa dữ liệu\n",
        "tokenizer = tf.keras.preprocessing.text.Tokenizer(filters='!\"#$%&()*+,-./:;<=>?@[\\\\]^`{|}~\\t\\n')\n",
        "tokenizer.fit_on_texts(train_sentences)\n",
        "\n",
        "train_sequences = tokenizer.texts_to_sequences(train_sentences)\n",
        "test_sequences = tokenizer.texts_to_sequences(test_sentences)\n",
        "val_sentences = tokenizer.texts_to_sequences(val_sentences)\n",
        "\n",
        "max_sequence_length = np.max([len(seq) for seq in train_sequences])\n",
        "\n",
        "\n",
        "train_sequences = tf.keras.preprocessing.sequence.pad_sequences(train_sequences, maxlen=max_sequence_length)\n",
        "test_sequences = tf.keras.preprocessing.sequence.pad_sequences(test_sequences, maxlen=max_sequence_length)\n",
        "val_sentences = tf.keras.preprocessing.sequence.pad_sequences(val_sentences, maxlen=max_sequence_length)\n",
        "\n",
        "train_sequences = tf.convert_to_tensor(train_sequences)\n",
        "train_labels = tf.convert_to_tensor(train_labels)\n",
        "\n",
        "test_sequences = tf.convert_to_tensor(test_sequences)\n",
        "test_labels = tf.convert_to_tensor(test_labels)\n",
        "\n",
        "val_sequences = tf.convert_to_tensor(val_sentences)\n",
        "val_labels = tf.convert_to_tensor(val_labels)"
      ]
    },
    {
      "cell_type": "code",
      "source": [
        "from tensorflow.keras.callbacks import ModelCheckpoint\n",
        "checkpoint = ModelCheckpoint('model2_{epoch}.h5', save_freq='epoch')"
      ],
      "metadata": {
        "id": "2zPHeI4-DYYy"
      },
      "execution_count": null,
      "outputs": []
    },
    {
      "cell_type": "code",
      "source": [
        "model = tf.keras.Sequential([\n",
        "    tf.keras.layers.Embedding(input_dim=len(tokenizer.word_index) + 1, output_dim=128, input_length=max_sequence_length),\n",
        "    tf.keras.layers.Bidirectional(tf.keras.layers.LSTM(128)),\n",
        "    tf.keras.layers.Dropout(0.5),\n",
        "    tf.keras.layers.Dense(1, activation='sigmoid')\n",
        "])\n",
        "model.compile(loss='binary_crossentropy', optimizer='adam', metrics=['accuracy'])"
      ],
      "metadata": {
        "id": "UlRq3WwDj_8E"
      },
      "execution_count": null,
      "outputs": []
    },
    {
      "cell_type": "code",
      "source": [
        "# model.summary()"
      ],
      "metadata": {
        "id": "einKUYHbQLMo"
      },
      "execution_count": null,
      "outputs": []
    },
    {
      "cell_type": "code",
      "source": [
        "history = model.fit(train_sequences, train_labels, batch_size=32, epochs=10, validation_data=(val_sequences, val_labels), callbacks=[checkpoint])"
      ],
      "metadata": {
        "id": "d-xwZ4nFkC8V",
        "colab": {
          "base_uri": "https://localhost:8080/"
        },
        "outputId": "cb3661ff-9cf6-491a-9f20-503759c96874"
      },
      "execution_count": null,
      "outputs": [
        {
          "output_type": "stream",
          "name": "stdout",
          "text": [
            "Epoch 1/10\n",
            "72/72 [==============================] - 10s 85ms/step - loss: 0.5299 - accuracy: 0.7260 - val_loss: 0.2873 - val_accuracy: 0.8923\n",
            "Epoch 2/10\n",
            " 2/72 [..............................] - ETA: 7s - loss: 0.3783 - accuracy: 0.8750"
          ]
        },
        {
          "output_type": "stream",
          "name": "stderr",
          "text": [
            "/usr/local/lib/python3.10/dist-packages/keras/src/engine/training.py:3079: UserWarning: You are saving your model as an HDF5 file via `model.save()`. This file format is considered legacy. We recommend using instead the native Keras format, e.g. `model.save('my_model.keras')`.\n",
            "  saving_api.save_model(\n"
          ]
        },
        {
          "output_type": "stream",
          "name": "stdout",
          "text": [
            "72/72 [==============================] - 1s 18ms/step - loss: 0.1859 - accuracy: 0.9355 - val_loss: 0.2491 - val_accuracy: 0.9085\n",
            "Epoch 3/10\n",
            "72/72 [==============================] - 1s 19ms/step - loss: 0.1071 - accuracy: 0.9656 - val_loss: 0.2785 - val_accuracy: 0.8984\n",
            "Epoch 4/10\n",
            "72/72 [==============================] - 1s 14ms/step - loss: 0.0638 - accuracy: 0.9769 - val_loss: 0.2919 - val_accuracy: 0.8963\n",
            "Epoch 5/10\n",
            "72/72 [==============================] - 1s 14ms/step - loss: 0.0489 - accuracy: 0.9848 - val_loss: 0.2792 - val_accuracy: 0.9207\n",
            "Epoch 6/10\n",
            "72/72 [==============================] - 1s 20ms/step - loss: 0.0364 - accuracy: 0.9869 - val_loss: 0.3237 - val_accuracy: 0.9167\n",
            "Epoch 7/10\n",
            "72/72 [==============================] - 1s 13ms/step - loss: 0.0246 - accuracy: 0.9917 - val_loss: 0.4074 - val_accuracy: 0.9106\n",
            "Epoch 8/10\n",
            "72/72 [==============================] - 1s 20ms/step - loss: 0.0273 - accuracy: 0.9913 - val_loss: 0.3729 - val_accuracy: 0.9106\n",
            "Epoch 9/10\n",
            "72/72 [==============================] - 1s 15ms/step - loss: 0.0250 - accuracy: 0.9900 - val_loss: 0.3802 - val_accuracy: 0.9065\n",
            "Epoch 10/10\n",
            "72/72 [==============================] - 1s 11ms/step - loss: 0.0160 - accuracy: 0.9961 - val_loss: 0.4002 - val_accuracy: 0.9228\n"
          ]
        }
      ]
    },
    {
      "cell_type": "code",
      "source": [
        "import matplotlib.pyplot as plt\n",
        "accuracy = history.history['accuracy']\n",
        "val_accuracy = history.history['val_accuracy']\n",
        "\n",
        "loss = history.history['loss']\n",
        "val_loss = history.history['val_loss']\n",
        "\n",
        "# Tạo một đối tượng figure và axes\n",
        "fig, ax = plt.subplots()\n",
        "\n",
        "# Vẽ đồ thị accuracy\n",
        "ax.plot(accuracy, label='Training Accuracy')\n",
        "# Vẽ đồ thị val_accuracy\n",
        "ax.plot(val_accuracy, label='Validation Accuracy')\n",
        "\n",
        "ax.plot(loss, label='Loss')\n",
        "ax.plot(val_loss, label='Validation Loss')\n",
        "\n",
        "# Đặt tiêu đề cho đồ thị và các trục\n",
        "ax.set_title('Training, Validation Accuracy And Training, Validation Loss')\n",
        "ax.set_xlabel('Epochs')\n",
        "ax.set_ylabel('Loss | Accuracy')\n",
        "\n",
        "# Hiển thị chú thích\n",
        "ax.legend()\n",
        "\n",
        "# Hiển thị đồ thị\n",
        "plt.show()"
      ],
      "metadata": {
        "id": "JsjAFtcQlUtL",
        "colab": {
          "base_uri": "https://localhost:8080/",
          "height": 472
        },
        "outputId": "2a97245b-0ec3-4a73-c1cb-a0ddfb45bb01"
      },
      "execution_count": null,
      "outputs": [
        {
          "output_type": "display_data",
          "data": {
            "text/plain": [
              "<Figure size 640x480 with 1 Axes>"
            ],
            "image/png": "[encoded data removed]"
          },
          "metadata": {}
        }
      ]
    },
    {
      "cell_type": "code",
      "source": [
        "test_loss, test_accuracy = model.evaluate(test_sequences, test_labels)\n",
        "print(f'Test loss: {test_loss}')\n",
        "print(f'Test accuracy: {test_accuracy}')"
      ],
      "metadata": {
        "id": "KWXV9QGvm0rG",
        "colab": {
          "base_uri": "https://localhost:8080/"
        },
        "outputId": "c33dbdad-ff80-4a49-d544-00bf630e3361"
      },
      "execution_count": null,
      "outputs": [
        {
          "output_type": "stream",
          "name": "stdout",
          "text": [
            "16/16 [==============================] - 0s 4ms/step - loss: 0.3093 - accuracy: 0.9189\n",
            "Test loss: 0.3092610836029053\n",
            "Test accuracy: 0.9188640713691711\n"
          ]
        }
      ]
    },
    {
      "cell_type": "code",
      "source": [
        "max_test = -1.0\n",
        "index = 0\n",
        "for i in range(1, 11):\n",
        "  model_name = '/content/model2_' + str(i) + '.h5'\n",
        "  loaded_model = tf.keras.models.load_model(model_name)\n",
        "  loss, accuracy = loaded_model.evaluate(test_sequences, test_labels)\n",
        "  print(accuracy)\n",
        "  if accuracy > max_test:\n",
        "    print(i)\n",
        "    max_test = test_accuracy\n",
        "    index = i\n",
        "print(index)"
      ],
      "metadata": {
        "id": "_XrAZDJFVt68",
        "colab": {
          "base_uri": "https://localhost:8080/"
        },
        "outputId": "85c497e0-d4e5-4a48-950f-3db203422de6"
      },
      "execution_count": null,
      "outputs": [
        {
          "output_type": "stream",
          "name": "stdout",
          "text": [
            "16/16 [==============================] - 1s 5ms/step - loss: 0.3015 - accuracy: 0.8864\n",
            "0.8864097595214844\n",
            "1\n",
            "16/16 [==============================] - 1s 5ms/step - loss: 0.2314 - accuracy: 0.9189\n",
            "0.9188640713691711\n",
            "16/16 [==============================] - 1s 5ms/step - loss: 0.2387 - accuracy: 0.9229\n",
            "0.9229208827018738\n",
            "3\n",
            "16/16 [==============================] - 1s 4ms/step - loss: 0.2061 - accuracy: 0.9452\n",
            "0.9452332854270935\n",
            "4\n",
            "16/16 [==============================] - 1s 5ms/step - loss: 0.2050 - accuracy: 0.9331\n",
            "0.9330628514289856\n",
            "5\n",
            "16/16 [==============================] - 1s 5ms/step - loss: 0.2242 - accuracy: 0.9310\n",
            "0.931034505367279\n",
            "6\n",
            "16/16 [==============================] - 1s 6ms/step - loss: 0.2993 - accuracy: 0.9148\n",
            "0.9148073196411133\n",
            "16/16 [==============================] - 1s 4ms/step - loss: 0.3049 - accuracy: 0.9209\n",
            "0.9208924770355225\n",
            "8\n",
            "16/16 [==============================] - 1s 5ms/step - loss: 0.2290 - accuracy: 0.9290\n",
            "0.9290060997009277\n",
            "9\n",
            "16/16 [==============================] - 1s 5ms/step - loss: 0.3093 - accuracy: 0.9189\n",
            "0.9188640713691711\n",
            "9\n"
          ]
        }
      ]
    }
  ],
  "metadata": {
    "kernelspec": {
      "display_name": "Python 3",
      "name": "python3"
    },
    "language_info": {
      "codemirror_mode": {
        "name": "ipython",
        "version": 3
      },
      "file_extension": ".py",
      "mimetype": "text/x-python",
      "name": "python",
      "nbconvert_exporter": "python",
      "pygments_lexer": "ipython3",
      "version": "3.9.13"
    },
    "colab": {
      "provenance": [],
      "gpuType": "T4"
    },
    "accelerator": "GPU"
  },
  "nbformat": 4,
  "nbformat_minor": 0
}